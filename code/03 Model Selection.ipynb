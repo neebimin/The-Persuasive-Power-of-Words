{
 "cells": [
  {
   "cell_type": "markdown",
   "metadata": {},
   "source": [
    "# Capstone Project: The Persuasive Power of Words\n",
    "\n",
    "*by Nee Bimin*"
   ]
  },
  {
   "cell_type": "markdown",
   "metadata": {},
   "source": [
    "## Notebook 3: Model Selection\n",
    "\n",
    "In this notebook, we will run a few models to select the production model for testing in the next notebook."
   ]
  },
  {
   "cell_type": "markdown",
   "metadata": {},
   "source": [
    "## Content\n",
    "\n",
    "- [Read Data](#Read-Data)\n",
    "- [Persuasive Classifier](#Persuasive-Words-Classifier)\n",
    "    * [Hyperparameter Tuning](#Hyperparameter-Tuning)\n",
    "- [Inspiring Classifier](#Persuasive-Words-Classifier)\n",
    "    * [Hyperparameter Tuning](#Hyperparameter-Tuning)\n",
    "- [Unconvincing Classifier](#Persuasive-Words-Classifier)\n",
    "    * [Hyperparameter Tuning](#Hyperparameter-Tuning)\n",
    "- [Multilabel Classifier](#Multilabel-Classifier)\n",
    "    * [Train/Test Split](#Train/Test-Split)\n",
    "    * [Linear SVC](#Linear-SVC)\n",
    "    * [Naive Bayes](#Naive-Bayes)\n",
    "    * [Logistic Regression](#Logistic-Regression)\n",
    "- [Model Evaluation](#Model-Evaluation)\n",
    "    * [Parsing Data](#Parsing-Data)\n",
    "    * [Preprocessing](#Preprocessing)\n",
    "- [Conclusion-and-Recommendations](#Conclusion-and-Recommendations)"
   ]
  },
  {
   "cell_type": "code",
   "execution_count": 1,
   "metadata": {},
   "outputs": [],
   "source": [
    "import pandas as pd\n",
    "import numpy as np\n",
    "import matplotlib.pyplot as plt\n",
    "import re\n",
    "import seaborn as sns\n",
    "\n",
    "# Import libraries for modeling\n",
    "from nltk.corpus import stopwords\n",
    "from nltk.tokenize import RegexpTokenizer\n",
    "from nltk.stem import WordNetLemmatizer\n",
    "from sklearn.feature_extraction.text import TfidfVectorizer\n",
    "from sklearn.model_selection import train_test_split, GridSearchCV, cross_val_score, RandomizedSearchCV\n",
    "from sklearn.naive_bayes import MultinomialNB\n",
    "from sklearn.multiclass import OneVsRestClassifier\n",
    "from sklearn.svm import LinearSVC\n",
    "from xgboost import XGBClassifier\n",
    "from sklearn.naive_bayes import MultinomialNB\n",
    "from sklearn.ensemble import RandomForestClassifier\n",
    "from sklearn.pipeline import Pipeline\n",
    "from sklearn.linear_model import SGDClassifier, LogisticRegression\n",
    "from sklearn.preprocessing import StandardScaler\n",
    "from sklearn.metrics import confusion_matrix, accuracy_score, classification_report\n",
    "\n",
    "\n",
    "# Import libraries for parsing html\n",
    "import bs4 as bs \n",
    "import soupsieve as sv # Soup Sieve to parse using CSS selector\n",
    "import codecs # To read in HTML file\n",
    "\n",
    "%matplotlib inline\n",
    "\n",
    "import warnings\n",
    "warnings.filterwarnings('ignore')"
   ]
  },
  {
   "cell_type": "markdown",
   "metadata": {},
   "source": [
    "## Read Data"
   ]
  },
  {
   "cell_type": "code",
   "execution_count": 2,
   "metadata": {},
   "outputs": [],
   "source": [
    "# Read in data\n",
    "ted_model = pd.read_csv('../data/ted_model.csv')"
   ]
  },
  {
   "cell_type": "code",
   "execution_count": 3,
   "metadata": {},
   "outputs": [
    {
     "data": {
      "text/html": [
       "<div>\n",
       "<style scoped>\n",
       "    .dataframe tbody tr th:only-of-type {\n",
       "        vertical-align: middle;\n",
       "    }\n",
       "\n",
       "    .dataframe tbody tr th {\n",
       "        vertical-align: top;\n",
       "    }\n",
       "\n",
       "    .dataframe thead th {\n",
       "        text-align: right;\n",
       "    }\n",
       "</style>\n",
       "<table border=\"1\" class=\"dataframe\">\n",
       "  <thead>\n",
       "    <tr style=\"text-align: right;\">\n",
       "      <th></th>\n",
       "      <th>comments</th>\n",
       "      <th>views</th>\n",
       "      <th>transcript</th>\n",
       "      <th>persuasive_label</th>\n",
       "      <th>inspiring_label</th>\n",
       "      <th>unconvincing_label</th>\n",
       "    </tr>\n",
       "  </thead>\n",
       "  <tbody>\n",
       "    <tr>\n",
       "      <th>0</th>\n",
       "      <td>4553</td>\n",
       "      <td>47227110</td>\n",
       "      <td>good morning great ive blown away whole thing ...</td>\n",
       "      <td>1</td>\n",
       "      <td>1</td>\n",
       "      <td>1</td>\n",
       "    </tr>\n",
       "    <tr>\n",
       "      <th>1</th>\n",
       "      <td>265</td>\n",
       "      <td>3200520</td>\n",
       "      <td>thank much chris truly great honor opportunity...</td>\n",
       "      <td>1</td>\n",
       "      <td>1</td>\n",
       "      <td>1</td>\n",
       "    </tr>\n",
       "    <tr>\n",
       "      <th>2</th>\n",
       "      <td>124</td>\n",
       "      <td>1636292</td>\n",
       "      <td>hello voice mail old friend ive called tech su...</td>\n",
       "      <td>1</td>\n",
       "      <td>0</td>\n",
       "      <td>1</td>\n",
       "    </tr>\n",
       "    <tr>\n",
       "      <th>3</th>\n",
       "      <td>200</td>\n",
       "      <td>1697550</td>\n",
       "      <td>today im happy heard sustainable development s...</td>\n",
       "      <td>1</td>\n",
       "      <td>1</td>\n",
       "      <td>1</td>\n",
       "    </tr>\n",
       "    <tr>\n",
       "      <th>4</th>\n",
       "      <td>593</td>\n",
       "      <td>12005869</td>\n",
       "      <td>10 year ago took task teach global development...</td>\n",
       "      <td>1</td>\n",
       "      <td>1</td>\n",
       "      <td>1</td>\n",
       "    </tr>\n",
       "  </tbody>\n",
       "</table>\n",
       "</div>"
      ],
      "text/plain": [
       "   comments     views                                         transcript  \\\n",
       "0      4553  47227110  good morning great ive blown away whole thing ...   \n",
       "1       265   3200520  thank much chris truly great honor opportunity...   \n",
       "2       124   1636292  hello voice mail old friend ive called tech su...   \n",
       "3       200   1697550  today im happy heard sustainable development s...   \n",
       "4       593  12005869  10 year ago took task teach global development...   \n",
       "\n",
       "   persuasive_label  inspiring_label  unconvincing_label  \n",
       "0                 1                1                   1  \n",
       "1                 1                1                   1  \n",
       "2                 1                0                   1  \n",
       "3                 1                1                   1  \n",
       "4                 1                1                   1  "
      ]
     },
     "execution_count": 3,
     "metadata": {},
     "output_type": "execute_result"
    }
   ],
   "source": [
    "ted_model.head()"
   ]
  },
  {
   "cell_type": "markdown",
   "metadata": {},
   "source": [
    "As we can see, there are talks that have more than one label i.e. received at least the median number of votes for more than one type of rating. So we cannot train the model based on multi-class text classification. Rather we will train the model separately for each label to find out the common words in the talks that are voted persuasive, inspiring and unconvincing. \n",
    "\n",
    "After training the models separately for each label, we will compare their performance against multilabel classifiers."
   ]
  },
  {
   "cell_type": "markdown",
   "metadata": {},
   "source": [
    "## Persuasive Classifier"
   ]
  },
  {
   "cell_type": "code",
   "execution_count": 4,
   "metadata": {},
   "outputs": [],
   "source": [
    "X = ted_model.transcript\n",
    "y = ted_model.persuasive_label\n",
    "X_train, X_test, y_train, y_test = train_test_split(X, y, test_size=0.3, random_state = 42, stratify=y)"
   ]
  },
  {
   "cell_type": "code",
   "execution_count": 5,
   "metadata": {},
   "outputs": [
    {
     "data": {
      "text/plain": [
       "0.5020337013364323"
      ]
     },
     "execution_count": 5,
     "metadata": {},
     "output_type": "execute_result"
    }
   ],
   "source": [
    "# baseline accuracy\n",
    "baseline = y_train.value_counts(normalize=True)[1]\n",
    "baseline"
   ]
  },
  {
   "cell_type": "markdown",
   "metadata": {},
   "source": [
    "Here we find the baseline accuracy, which is the likelihood of a transcript having a higher than median number of persuasive votes, by calculating the percentage of the dataset that has the target value of 1. Normalising the value counts shows the percentage, and gives a baseline accuracy of 50.06%."
   ]
  },
  {
   "cell_type": "code",
   "execution_count": 6,
   "metadata": {},
   "outputs": [],
   "source": [
    "steps_list = [ # list of pipeline steps for each model combo\n",
    "    [('tf',TfidfVectorizer()), ('multi_nb',MultinomialNB())],\n",
    "    [('tf',TfidfVectorizer()), ('svm', SGDClassifier())],\n",
    "    [('tf',TfidfVectorizer()), ('xgb', XGBClassifier())],\n",
    "    [('tf',TfidfVectorizer()), ('rf', RandomForestClassifier())],\n",
    "    [('tf',TfidfVectorizer()), ('scaler', StandardScaler(with_mean=False)), ('logreg',LogisticRegression())]\n",
    "]"
   ]
  },
  {
   "cell_type": "code",
   "execution_count": 7,
   "metadata": {},
   "outputs": [],
   "source": [
    "steps_titles = ['multi_nb','svm','xgb','rf','logreg']"
   ]
  },
  {
   "cell_type": "code",
   "execution_count": 8,
   "metadata": {},
   "outputs": [],
   "source": [
    "pipe_params = [\n",
    "    {\"tf__stop_words\":['english'], \"tf__ngram_range\":[(1,1),(1,2)]},\n",
    "    {\"tf__stop_words\":['english'], \"tf__ngram_range\":[(1,1),(1,2)]},\n",
    "    {\"tf__stop_words\":['english'], \"tf__ngram_range\":[(1,1),(1,2)]},\n",
    "    {\"tf__stop_words\":['english'], \"tf__ngram_range\":[(1,1),(1,2)]},\n",
    "    {\"tf__stop_words\":['english'], \"tf__ngram_range\":[(1,1),(1,2)]}\n",
    "]"
   ]
  },
  {
   "cell_type": "code",
   "execution_count": 9,
   "metadata": {},
   "outputs": [
    {
     "data": {
      "text/html": [
       "<div>\n",
       "<style scoped>\n",
       "    .dataframe tbody tr th:only-of-type {\n",
       "        vertical-align: middle;\n",
       "    }\n",
       "\n",
       "    .dataframe tbody tr th {\n",
       "        vertical-align: top;\n",
       "    }\n",
       "\n",
       "    .dataframe thead th {\n",
       "        text-align: right;\n",
       "    }\n",
       "</style>\n",
       "<table border=\"1\" class=\"dataframe\">\n",
       "  <thead>\n",
       "    <tr style=\"text-align: right;\">\n",
       "      <th></th>\n",
       "      <th>model</th>\n",
       "      <th>best_params</th>\n",
       "      <th>train_accuracy</th>\n",
       "      <th>test_accuracy</th>\n",
       "      <th>baseline_accuracy</th>\n",
       "      <th>recall</th>\n",
       "      <th>precision</th>\n",
       "      <th>f1-score</th>\n",
       "    </tr>\n",
       "  </thead>\n",
       "  <tbody>\n",
       "  </tbody>\n",
       "</table>\n",
       "</div>"
      ],
      "text/plain": [
       "Empty DataFrame\n",
       "Columns: [model, best_params, train_accuracy, test_accuracy, baseline_accuracy, recall, precision, f1-score]\n",
       "Index: []"
      ]
     },
     "execution_count": 9,
     "metadata": {},
     "output_type": "execute_result"
    }
   ],
   "source": [
    "# instantiate results DataFrame\n",
    "gs_results = pd.DataFrame(columns=['model','best_params','train_accuracy','test_accuracy','baseline_accuracy',\n",
    "                                   'recall', 'precision', 'f1-score'])\n",
    "gs_results.head()"
   ]
  },
  {
   "cell_type": "code",
   "execution_count": null,
   "metadata": {
    "scrolled": true
   },
   "outputs": [
    {
     "name": "stdout",
     "output_type": "stream",
     "text": [
      "Model:  multi_nb\n",
      "Best Params:  {'tf__ngram_range': (1, 1), 'tf__stop_words': 'english'}\n",
      "0.821615339918652 \n",
      "\n",
      "0.6869918699186992 \n",
      "\n",
      "True Negatives: 158\n",
      "False Positives: 209\n",
      "False Negatives: 22\n",
      "True Positives: 349 \n",
      "\n",
      "Model:  svm\n",
      "Best Params:  {'tf__ngram_range': (1, 2), 'tf__stop_words': 'english'}\n",
      "1.0 \n",
      "\n",
      "0.7235772357723578 \n",
      "\n",
      "True Negatives: 225\n",
      "False Positives: 142\n",
      "False Negatives: 62\n",
      "True Positives: 309 \n",
      "\n"
     ]
    }
   ],
   "source": [
    "# Loop through index of number of steps\n",
    "for i in range(len(steps_list)):\n",
    "    # instantiate pipeline \n",
    "    pipe = Pipeline(steps=steps_list[i])\n",
    "    # fit GridSearchCV to model and model's params\n",
    "    gs = GridSearchCV(pipe, pipe_params[i], cv=3) \n",
    "\n",
    "    model_results = {}\n",
    "\n",
    "    gs.fit(X_train, y_train)\n",
    "    \n",
    "    print('Model: ', steps_titles[i])\n",
    "    model_results['model'] = steps_titles[i]\n",
    "\n",
    "    print('Best Params: ', gs.best_params_)\n",
    "    model_results['best_params'] = gs.best_params_\n",
    "\n",
    "    print(gs.score(X_train, y_train), '\\n')\n",
    "    model_results['train_accuracy'] = gs.score(X_train, y_train)\n",
    "    \n",
    "    print(gs.score(X_test, y_test), '\\n')\n",
    "    model_results['test_accuracy'] = gs.score(X_test, y_test)\n",
    "    \n",
    "    model_results['baseline_accuracy'] = baseline\n",
    "\n",
    "    # Display the confusion matrix results showing true/false positive/negative\n",
    "    tn, fp, fn, tp = confusion_matrix(y_test, gs.predict(X_test)).ravel() \n",
    "    print(\"True Negatives: %s\" % tn)\n",
    "    print(\"False Positives: %s\" % fp)\n",
    "    print(\"False Negatives: %s\" % fn)\n",
    "    print(\"True Positives: %s\" % tp, '\\n')\n",
    "    \n",
    "    model_results['recall'] = tp/(tp+fn)\n",
    "    model_results['precision'] = tp/(tp+fp)\n",
    "    model_results['f1-score'] = 2*((tp/(tp+fp))*(tp/(tp+fn)))/((tp/(tp+fp))+(tp/(tp+fn)))\n",
    "\n",
    "    gs_results = gs_results.append(model_results, ignore_index=True)\n",
    "    pd.set_option('display.max_colwidth', 200)"
   ]
  },
  {
   "cell_type": "code",
   "execution_count": null,
   "metadata": {},
   "outputs": [],
   "source": [
    "gs_results.sort_values('test_accuracy', ascending=False)"
   ]
  },
  {
   "cell_type": "markdown",
   "metadata": {},
   "source": [
    "Support Vector Machine performed the best based on test set accuracy, our main metric. It is closely followed by Logistic Regression. While Naive Bayes has the highest f1-score, we will proceed with hyperparameter tuning for Logistic Regression and Support Vector Machine since accuracy is our main metric of evaluation.\n",
    "\n",
    "Interestingly, SVM, Random Forest and Logistic Regression all had a training accuracy of 1, suggesting severe overfitting of the training data. "
   ]
  },
  {
   "cell_type": "markdown",
   "metadata": {},
   "source": [
    "### Hyperparameter Tuning"
   ]
  },
  {
   "cell_type": "code",
   "execution_count": null,
   "metadata": {},
   "outputs": [],
   "source": [
    "# Create empty dataframe to store results for tuning\n",
    "persuasive_tuning = pd.DataFrame(columns=['model', 'best_params','train_accuracy','test_accuracy','recall',\n",
    "                                 'precision','f1-score'])\n",
    "\n",
    "persuasive_tuning.head()"
   ]
  },
  {
   "cell_type": "code",
   "execution_count": null,
   "metadata": {},
   "outputs": [],
   "source": [
    "persuasive_steps = [ # list of pipeline steps with best params from earlier run\n",
    "    [('tf',TfidfVectorizer(ngram_range=(1,2), stop_words='english')), ('svm', SGDClassifier())],\n",
    "    [('tf',TfidfVectorizer(ngram_range=(1,1), stop_words='english')), ('scaler', StandardScaler(with_mean=False)), \n",
    "     ('logreg', LogisticRegression())]\n",
    "]\n",
    "\n",
    "persuasive_models = ['svm', 'logreg']"
   ]
  },
  {
   "cell_type": "code",
   "execution_count": null,
   "metadata": {},
   "outputs": [],
   "source": [
    "# parameters for Randomized Search using Pipeline, formatted to call named estimators\n",
    "persuasive_params = [{'tf__max_features': [None, 1000, 2500],\n",
    "                      'tf__min_df': [1, 2], \n",
    "                      'tf__max_df': [0.7, 1.0],\n",
    "                      'svm__penalty': ['l1', 'l2'],\n",
    "                      'svm__loss': ['perceptron', 'log'],\n",
    "                      'svm__alpha': [0.001, 0.01],\n",
    "                      'svm__max_iter': [5, 1000],\n",
    "                      'svm__early_stopping': [True, False],\n",
    "                      'svm__tol': [0.001, 0.0001]},\n",
    "                     {'tf__max_features': [None, 2500, 3000],\n",
    "                      'tf__min_df': [1, 2], \n",
    "                      'tf__max_df': [1.0, 1.2],\n",
    "                      'logreg__max_iter': [100, 105],\n",
    "                      'logreg__C': [3.0, 4.0, 5.0],\n",
    "                      'logreg__penalty': ['l1', 'l2'],\n",
    "                      'logreg__solver': ['saga', 'liblinear']}\n",
    "                     ]"
   ]
  },
  {
   "cell_type": "code",
   "execution_count": null,
   "metadata": {},
   "outputs": [],
   "source": [
    "# Loop through index of number of steps\n",
    "for i in range(len(persuasive_models)):\n",
    "    # instantiate pipeline \n",
    "    persuasive_pipe = Pipeline(steps=persuasive_steps[i])\n",
    "    # fit RandomizedSearchCV to model and model's params\n",
    "    persuasive_rs = RandomizedSearchCV(n_iter=50, estimator=persuasive_pipe, \n",
    "                                       param_distributions=persuasive_params[i],\n",
    "                                       cv=3, random_state=42, verbose=1, n_jobs=-1) \n",
    "\n",
    "    persuasive_results = {}\n",
    "\n",
    "    persuasive_rs.fit(X_train, y_train)\n",
    "    \n",
    "    print('Model: ', persuasive_models[i])\n",
    "    persuasive_results['model'] = persuasive_models[i]\n",
    "\n",
    "    print('Best Params: ', persuasive_rs.best_params_)\n",
    "    persuasive_results['best_params'] = persuasive_rs.best_params_\n",
    "\n",
    "    print(persuasive_rs.score(X_train, y_train), '\\n')\n",
    "    persuasive_results['train_accuracy'] = persuasive_rs.score(X_train, y_train)\n",
    "    \n",
    "    print(persuasive_rs.score(X_test, y_test), '\\n')\n",
    "    persuasive_results['test_accuracy'] = persuasive_rs.score(X_test, y_test)\n",
    "    \n",
    "    # Display the confusion matrix results showing true/false positive/negative\n",
    "    tn, fp, fn, tp = confusion_matrix(y_test, persuasive_rs.predict(X_test)).ravel() \n",
    "    print(\"True Negatives: %s\" % tn)\n",
    "    print(\"False Positives: %s\" % fp)\n",
    "    print(\"False Negatives: %s\" % fn)\n",
    "    print(\"True Positives: %s\" % tp, '\\n')\n",
    "    \n",
    "    persuasive_results['recall'] = tp/(tp+fn)\n",
    "    persuasive_results['precision'] = tp/(tp+fp)\n",
    "    persuasive_results['f1-score'] = 2*((tp/(tp+fp))*(tp/(tp+fn)))/((tp/(tp+fp))+(tp/(tp+fn)))\n",
    "\n",
    "    persuasive_tuning = persuasive_tuning.append(persuasive_results, ignore_index=True)\n",
    "    pd.set_option('display.max_colwidth', 200)"
   ]
  },
  {
   "cell_type": "code",
   "execution_count": null,
   "metadata": {},
   "outputs": [],
   "source": [
    "persuasive_tuning.sort_values('test_accuracy', ascending=False)"
   ]
  },
  {
   "cell_type": "markdown",
   "metadata": {},
   "source": [
    "After tuning, SVM is still the better performer than Logistic Regression, with higher accuracy, recall, precision and f1 on the test set. Overfitting has also been reduced. This model will be the production model."
   ]
  },
  {
   "cell_type": "markdown",
   "metadata": {},
   "source": [
    "## Inspiring Classifier"
   ]
  },
  {
   "cell_type": "code",
   "execution_count": null,
   "metadata": {},
   "outputs": [],
   "source": [
    "X = ted_model.transcript\n",
    "y = ted_model.inspiring_label\n",
    "X_train, X_test, y_train, y_test = train_test_split(X, y, test_size=0.3, random_state = 42, stratify=y)"
   ]
  },
  {
   "cell_type": "code",
   "execution_count": null,
   "metadata": {},
   "outputs": [],
   "source": [
    "# baseline accuracy\n",
    "baseline = y_train.value_counts(normalize=True)[1]\n",
    "baseline"
   ]
  },
  {
   "cell_type": "code",
   "execution_count": null,
   "metadata": {},
   "outputs": [],
   "source": [
    "steps_list = [ # list of pipeline steps for each model combo\n",
    "    [('tf',TfidfVectorizer()), ('multi_nb',MultinomialNB())],\n",
    "    [('tf',TfidfVectorizer()), ('svm', SGDClassifier())],\n",
    "    [('tf',TfidfVectorizer()), ('xgb', XGBClassifier())],\n",
    "    [('tf',TfidfVectorizer()), ('rf', RandomForestClassifier())],\n",
    "    [('tf',TfidfVectorizer()), ('scaler', StandardScaler(with_mean=False)), ('logreg',LogisticRegression())]\n",
    "]"
   ]
  },
  {
   "cell_type": "code",
   "execution_count": null,
   "metadata": {},
   "outputs": [],
   "source": [
    "steps_titles = ['multi_nb','svm','xgb','rf','logreg']"
   ]
  },
  {
   "cell_type": "code",
   "execution_count": null,
   "metadata": {},
   "outputs": [],
   "source": [
    "pipe_params = [\n",
    "    {\"tf__stop_words\":['english'], \"tf__ngram_range\":[(1,1),(1,2)]},\n",
    "    {\"tf__stop_words\":['english'], \"tf__ngram_range\":[(1,1),(1,2)]},\n",
    "    {\"tf__stop_words\":['english'], \"tf__ngram_range\":[(1,1),(1,2)]},\n",
    "    {\"tf__stop_words\":['english'], \"tf__ngram_range\":[(1,1),(1,2)]},\n",
    "    {\"tf__stop_words\":['english'], \"tf__ngram_range\":[(1,1),(1,2)]}\n",
    "]"
   ]
  },
  {
   "cell_type": "code",
   "execution_count": null,
   "metadata": {},
   "outputs": [],
   "source": [
    "# instantiate results DataFrame\n",
    "gs_results = pd.DataFrame(columns=['model','best_params','train_accuracy','test_accuracy','baseline_accuracy',\n",
    "                                   'recall', 'precision', 'f1-score'])\n",
    "gs_results.head()"
   ]
  },
  {
   "cell_type": "code",
   "execution_count": null,
   "metadata": {
    "scrolled": true
   },
   "outputs": [],
   "source": [
    "# Loop through index of number of steps\n",
    "for i in range(len(steps_list)):\n",
    "    # instantiate pipeline \n",
    "    pipe = Pipeline(steps=steps_list[i])\n",
    "    # fit GridSearchCV to model and model's params\n",
    "    gs = GridSearchCV(pipe, pipe_params[i], cv=3) \n",
    "\n",
    "    model_results = {}\n",
    "\n",
    "    gs.fit(X_train, y_train)\n",
    "    \n",
    "    print('Model: ', steps_titles[i])\n",
    "    model_results['model'] = steps_titles[i]\n",
    "\n",
    "    print('Best Params: ', gs.best_params_)\n",
    "    model_results['best_params'] = gs.best_params_\n",
    "\n",
    "    print(gs.score(X_train, y_train), '\\n')\n",
    "    model_results['train_accuracy'] = gs.score(X_train, y_train)\n",
    "    \n",
    "    print(gs.score(X_test, y_test), '\\n')\n",
    "    model_results['test_accuracy'] = gs.score(X_test, y_test)\n",
    "    \n",
    "    model_results['baseline_accuracy'] = baseline\n",
    "\n",
    "    # Display the confusion matrix results showing true/false positive/negative\n",
    "    tn, fp, fn, tp = confusion_matrix(y_test, gs.predict(X_test)).ravel() \n",
    "    print(\"True Negatives: %s\" % tn)\n",
    "    print(\"False Positives: %s\" % fp)\n",
    "    print(\"False Negatives: %s\" % fn)\n",
    "    print(\"True Positives: %s\" % tp, '\\n')\n",
    "    \n",
    "    model_results['recall'] = tp/(tp+fn)\n",
    "    model_results['precision'] = tp/(tp+fp)\n",
    "    model_results['f1-score'] = 2*((tp/(tp+fp))*(tp/(tp+fn)))/((tp/(tp+fp))+(tp/(tp+fn)))\n",
    "\n",
    "    gs_results = gs_results.append(model_results, ignore_index=True)\n",
    "    pd.set_option('display.max_colwidth', 200)"
   ]
  },
  {
   "cell_type": "code",
   "execution_count": null,
   "metadata": {
    "scrolled": true
   },
   "outputs": [],
   "source": [
    "gs_results.sort_values('test_accuracy', ascending=False)"
   ]
  },
  {
   "cell_type": "markdown",
   "metadata": {},
   "source": [
    "The best performing models are again SVM and Logistic Regression by test set accuracy. We see again that Logistic Regression, SVM and Random Forest all have training set accuracy of 1. Similar to persuasive words, the best parameter for SVM is a bigram.\n",
    "Hyperparameter tuning will be done for Logistic Regression and SVM."
   ]
  },
  {
   "cell_type": "markdown",
   "metadata": {},
   "source": [
    "### Hyperparameter Tuning"
   ]
  },
  {
   "cell_type": "code",
   "execution_count": null,
   "metadata": {},
   "outputs": [],
   "source": [
    "# Create empty dataframe to store results for tuning\n",
    "inspiring_tuning = pd.DataFrame(columns=['model', 'best_params','train_accuracy','test_accuracy','recall',\n",
    "                                         'precision','f1-score'])\n",
    "\n",
    "inspiring_tuning.head()"
   ]
  },
  {
   "cell_type": "code",
   "execution_count": null,
   "metadata": {},
   "outputs": [],
   "source": [
    "inspiring_steps = [ # list of pipeline steps with best params from earlier runs\n",
    "    [('tf',TfidfVectorizer(ngram_range=(1,2), stop_words='english')), ('scaler', StandardScaler(with_mean=False)), \n",
    "     ('logreg',LogisticRegression())],\n",
    "    [('tf',TfidfVectorizer(ngram_range=(1,2), stop_words='english')), ('svm', SGDClassifier())]\n",
    "]\n",
    "\n",
    "inspiring_models = ['logreg','svm']"
   ]
  },
  {
   "cell_type": "code",
   "execution_count": null,
   "metadata": {},
   "outputs": [],
   "source": [
    "# parameters for GridSearch using Pipeline, formatted to call named estimators\n",
    "inspiring_params = [{'tf__max_features': [None, 2500, 3000],\n",
    "                      'tf__min_df': [1, 2], \n",
    "                      'tf__max_df': [0.8, 0.9, 1.0],\n",
    "                      'logreg__max_iter': [80, 100],\n",
    "                      'logreg__C': [2.0, 25, 3.0],\n",
    "                      'logreg__penalty': ['l1', 'l2'],\n",
    "                      'logreg__solver': ['saga', 'liblinear']},\n",
    "                    {'tf__max_features': [None, 1000, 1200],\n",
    "                      'tf__min_df': [1, 2], \n",
    "                      'tf__max_df': [0.75, 0.8, 1.0],\n",
    "                      'svm__penalty': ['l1', 'l2'],\n",
    "                      'svm__loss': ['hinge', 'log'],\n",
    "                      'svm__alpha': [0.0001, 0.001, 0.01],\n",
    "                      'svm__max_iter': [1000, 1200],\n",
    "                      'svm__early_stopping': [True, False],\n",
    "                      'svm__tol': [0.001, 0.0001]}\n",
    "                     ]"
   ]
  },
  {
   "cell_type": "code",
   "execution_count": null,
   "metadata": {},
   "outputs": [],
   "source": [
    "# Loop through index of number of steps\n",
    "for i in range(len(inspiring_models)):\n",
    "    # instantiate pipeline \n",
    "    inspiring_pipe = Pipeline(steps=inspiring_steps[i])\n",
    "    # fit RandomizedSearchCV to model and model's params\n",
    "    inspiring_rs = RandomizedSearchCV(n_iter=50, estimator=inspiring_pipe, \n",
    "                                      param_distributions=inspiring_params[i],\n",
    "                                      cv=3, random_state=42, verbose=1, n_jobs=-1) \n",
    "\n",
    "    inspiring_results = {}\n",
    "\n",
    "    inspiring_rs.fit(X_train, y_train)\n",
    "    \n",
    "    print('Model: ', inspiring_models[i])\n",
    "    inspiring_results['model'] = inspiring_models[i]\n",
    "\n",
    "    print('Best Params: ', inspiring_rs.best_params_)\n",
    "    inspiring_results['best_params'] = inspiring_rs.best_params_\n",
    "\n",
    "    print(inspiring_rs.score(X_train, y_train), '\\n')\n",
    "    inspiring_results['train_accuracy'] = inspiring_rs.score(X_train, y_train)\n",
    "    \n",
    "    print(inspiring_rs.score(X_test, y_test), '\\n')\n",
    "    inspiring_results['test_accuracy'] = inspiring_rs.score(X_test, y_test)\n",
    "    \n",
    "    # Display the confusion matrix results showing true/false positive/negative\n",
    "    tn, fp, fn, tp = confusion_matrix(y_test, inspiring_rs.predict(X_test)).ravel() \n",
    "    print(\"True Negatives: %s\" % tn)\n",
    "    print(\"False Positives: %s\" % fp)\n",
    "    print(\"False Negatives: %s\" % fn)\n",
    "    print(\"True Positives: %s\" % tp, '\\n')\n",
    "    \n",
    "    inspiring_results['recall'] = tp/(tp+fn)\n",
    "    inspiring_results['precision'] = tp/(tp+fp)\n",
    "    inspiring_results['f1-score'] = 2*((tp/(tp+fp))*(tp/(tp+fn)))/((tp/(tp+fp))+(tp/(tp+fn)))\n",
    "\n",
    "    inspiring_tuning = inspiring_tuning.append(inspiring_results, ignore_index=True)\n",
    "    pd.set_option('display.max_colwidth', 200)"
   ]
  },
  {
   "cell_type": "code",
   "execution_count": null,
   "metadata": {},
   "outputs": [],
   "source": [
    "inspiring_tuning.sort_values('test_accuracy', ascending=False)"
   ]
  },
  {
   "cell_type": "markdown",
   "metadata": {},
   "source": [
    "The tuning only resulted in a marginal improvement of test accuracy for SVM and made it worse for Logistic Regression. The SVM will be chosen as the production model."
   ]
  },
  {
   "cell_type": "markdown",
   "metadata": {},
   "source": [
    "## Unconvincing Classifier"
   ]
  },
  {
   "cell_type": "code",
   "execution_count": null,
   "metadata": {},
   "outputs": [],
   "source": [
    "X = ted_model.transcript\n",
    "y = ted_model.unconvincing_label\n",
    "X_train, X_test, y_train, y_test = train_test_split(X, y, test_size=0.3, random_state = 42, stratify=y)"
   ]
  },
  {
   "cell_type": "code",
   "execution_count": null,
   "metadata": {},
   "outputs": [],
   "source": [
    "# baseline accuracy\n",
    "baseline = y_train.value_counts(normalize=True)[1]\n",
    "baseline"
   ]
  },
  {
   "cell_type": "code",
   "execution_count": null,
   "metadata": {},
   "outputs": [],
   "source": [
    "steps_list = [ # list of pipeline steps for each model combo\n",
    "    [('tf',TfidfVectorizer()), ('multi_nb',MultinomialNB())],\n",
    "    [('tf',TfidfVectorizer()), ('svm', SGDClassifier())],\n",
    "    [('tf',TfidfVectorizer()), ('xgb', XGBClassifier())],\n",
    "    [('tf',TfidfVectorizer()), ('rf', RandomForestClassifier())],\n",
    "    [('tf',TfidfVectorizer()), ('scaler', StandardScaler(with_mean=False)), ('logreg',LogisticRegression())]\n",
    "]"
   ]
  },
  {
   "cell_type": "code",
   "execution_count": null,
   "metadata": {},
   "outputs": [],
   "source": [
    "steps_titles = ['multi_nb','svm','xgb','rf','logreg']"
   ]
  },
  {
   "cell_type": "code",
   "execution_count": null,
   "metadata": {},
   "outputs": [],
   "source": [
    "pipe_params = [\n",
    "    {\"tf__stop_words\":['english'], \"tf__ngram_range\":[(1,1),(1,2)]},\n",
    "    {\"tf__stop_words\":['english'], \"tf__ngram_range\":[(1,1),(1,2)]},\n",
    "    {\"tf__stop_words\":['english'], \"tf__ngram_range\":[(1,1),(1,2)]},\n",
    "    {\"tf__stop_words\":['english'], \"tf__ngram_range\":[(1,1),(1,2)]},\n",
    "    {\"tf__stop_words\":['english'], \"tf__ngram_range\":[(1,1),(1,2)]}\n",
    "]"
   ]
  },
  {
   "cell_type": "code",
   "execution_count": null,
   "metadata": {},
   "outputs": [],
   "source": [
    "# instantiate results DataFrame\n",
    "gs_results = pd.DataFrame(columns=['model','best_params','train_accuracy','test_accuracy','baseline_accuracy',\n",
    "                                         'recall', 'precision', 'f1-score'])\n",
    "gs_results.head()"
   ]
  },
  {
   "cell_type": "code",
   "execution_count": null,
   "metadata": {
    "scrolled": true
   },
   "outputs": [],
   "source": [
    "# Loop through index of number of steps\n",
    "for i in range(len(steps_list)):\n",
    "    # instantiate pipeline \n",
    "    pipe = Pipeline(steps=steps_list[i])\n",
    "    # fit GridSearchCV to model and model's params\n",
    "    gs = GridSearchCV(pipe, pipe_params[i], cv=3) \n",
    "\n",
    "    model_results = {}\n",
    "\n",
    "    gs.fit(X_train, y_train)\n",
    "    \n",
    "    print('Model: ', steps_titles[i])\n",
    "    model_results['model'] = steps_titles[i]\n",
    "\n",
    "    print('Best Params: ', gs.best_params_)\n",
    "    model_results['best_params'] = gs.best_params_\n",
    "\n",
    "    print(gs.score(X_train, y_train), '\\n')\n",
    "    model_results['train_accuracy'] = gs.score(X_train, y_train)\n",
    "    \n",
    "    print(gs.score(X_test, y_test), '\\n')\n",
    "    model_results['test_accuracy'] = gs.score(X_test, y_test)\n",
    "    \n",
    "    model_results['baseline_accuracy'] = baseline\n",
    "\n",
    "    # Display the confusion matrix results showing true/false positive/negative\n",
    "    tn, fp, fn, tp = confusion_matrix(y_test, gs.predict(X_test)).ravel() \n",
    "    print(\"True Negatives: %s\" % tn)\n",
    "    print(\"False Positives: %s\" % fp)\n",
    "    print(\"False Negatives: %s\" % fn)\n",
    "    print(\"True Positives: %s\" % tp, '\\n')\n",
    "    \n",
    "    model_results['recall'] = tp/(tp+fn)\n",
    "    model_results['precision'] = tp/(tp+fp)\n",
    "    model_results['f1-score'] = 2*((tp/(tp+fp))*(tp/(tp+fn)))/((tp/(tp+fp))+(tp/(tp+fn)))\n",
    "\n",
    "    gs_results = gs_results.append(model_results, ignore_index=True)\n",
    "    pd.set_option('display.max_colwidth', 200)"
   ]
  },
  {
   "cell_type": "code",
   "execution_count": null,
   "metadata": {},
   "outputs": [],
   "source": [
    "gs_results.sort_values('test_accuracy', ascending=False)"
   ]
  },
  {
   "cell_type": "markdown",
   "metadata": {},
   "source": [
    "SVM and Logistic Regression have the highest test accuracy. Hyperparameter tuning will be done for these two models."
   ]
  },
  {
   "cell_type": "markdown",
   "metadata": {},
   "source": [
    "### Hyperparameter Tuning"
   ]
  },
  {
   "cell_type": "code",
   "execution_count": null,
   "metadata": {},
   "outputs": [],
   "source": [
    "# Create empty dataframe to store results for tuning\n",
    "unconvincing_tuning = pd.DataFrame(columns=['model', 'best_params','train_accuracy','test_accuracy','recall',\n",
    "                                 'precision','f1-score'])\n",
    "\n",
    "unconvincing_tuning.head()"
   ]
  },
  {
   "cell_type": "code",
   "execution_count": null,
   "metadata": {},
   "outputs": [],
   "source": [
    "unconvincing_steps = [ # list of pipeline steps with best params from earlier run\n",
    "    [('tf',TfidfVectorizer(ngram_range=(1,2), stop_words='english')), ('svm', SGDClassifier(tol=None))],\n",
    "    [('tf',TfidfVectorizer(ngram_range=(1,2), stop_words='english')), ('scaler', StandardScaler(with_mean=False)), \n",
    "     ('logreg',LogisticRegression())]\n",
    "]\n",
    "\n",
    "unconvincing_models = ['svm','logreg']"
   ]
  },
  {
   "cell_type": "code",
   "execution_count": null,
   "metadata": {},
   "outputs": [],
   "source": [
    "# parameters for GridSearch using Pipeline, formatted to call named estimators\n",
    "\n",
    "unconvincing_params = [{'tf__max_features': [None, 800, 1000],\n",
    "                        'tf__min_df': [1, 2], \n",
    "                        'tf__max_df': [0.75, 1.0],\n",
    "                        'svm__penalty': ['l1', 'l2'],\n",
    "                        'svm__loss': ['hinge', 'log'],\n",
    "                        'svm__alpha': [0.0001, 0.001, 0.01],\n",
    "                        'svm__max_iter': [1000, 1200],\n",
    "                        'svm__early_stopping': [True, False],\n",
    "                        'svm__tol': [0.001, 0.0001]},\n",
    "                       {'tf__max_features': [None, 2500, 3000],\n",
    "                        'tf__min_df': [1, 2], \n",
    "                        'tf__max_df': [0.8, 0.9, 1.0],\n",
    "                        'logreg__max_iter': [80, 100],\n",
    "                        'logreg__C': [2.0, 25, 3.0],\n",
    "                        'logreg__penalty': ['l1', 'l2'],\n",
    "                        'logreg__solver': ['saga', 'liblinear']}\n",
    "                      ]"
   ]
  },
  {
   "cell_type": "code",
   "execution_count": null,
   "metadata": {
    "scrolled": true
   },
   "outputs": [],
   "source": [
    "# Loop through index of number of steps\n",
    "for i in range(len(unconvincing_models)):\n",
    "    # instantiate pipeline \n",
    "    unconvincing_pipe = Pipeline(steps=unconvincing_steps[i])\n",
    "    # fit RandomizedSearch to model and model's params\n",
    "    unconvincing_rs = RandomizedSearchCV(n_iter=50, estimator=unconvincing_pipe, \n",
    "                                         param_distributions=unconvincing_params[i],\n",
    "                                         cv=3, random_state=42, verbose=1, n_jobs=-1) \n",
    "\n",
    "    unconvincing_results = {}\n",
    "\n",
    "    unconvincing_rs.fit(X_train, y_train)\n",
    "    \n",
    "    print('Model: ', unconvincing_models[i])\n",
    "    unconvincing_results['model'] = unconvincing_models[i]\n",
    "\n",
    "    print('Best Params: ', unconvincing_rs.best_params_)\n",
    "    unconvincing_results['best_params'] = unconvincing_rs.best_params_\n",
    "\n",
    "    print(unconvincing_rs.score(X_train, y_train), '\\n')\n",
    "    unconvincing_results['train_accuracy'] = unconvincing_rs.score(X_train, y_train)\n",
    "    \n",
    "    print(unconvincing_rs.score(X_test, y_test), '\\n')\n",
    "    unconvincing_results['test_accuracy'] = unconvincing_rs.score(X_test, y_test)\n",
    "    \n",
    "    # Display the confusion matrix results showing true/false positive/negative\n",
    "    tn, fp, fn, tp = confusion_matrix(y_test, unconvincing_rs.predict(X_test)).ravel() \n",
    "    print(\"True Negatives: %s\" % tn)\n",
    "    print(\"False Positives: %s\" % fp)\n",
    "    print(\"False Negatives: %s\" % fn)\n",
    "    print(\"True Positives: %s\" % tp, '\\n')\n",
    "    \n",
    "    unconvincing_results['recall'] = tp/(tp+fn)\n",
    "    unconvincing_results['precision'] = tp/(tp+fp)\n",
    "    unconvincing_results['f1-score'] = 2*((tp/(tp+fp))*(tp/(tp+fn)))/((tp/(tp+fp))+(tp/(tp+fn)))\n",
    "\n",
    "    unconvincing_tuning = unconvincing_tuning.append(unconvincing_results, ignore_index=True)\n",
    "    pd.set_option('display.max_colwidth', 200)"
   ]
  },
  {
   "cell_type": "code",
   "execution_count": null,
   "metadata": {},
   "outputs": [],
   "source": [
    "unconvincing_tuning.sort_values('test_accuracy', ascending=False)"
   ]
  },
  {
   "cell_type": "markdown",
   "metadata": {},
   "source": [
    "Similar to the inspiring classifier, SVM performed better here after hyperparameter tuning. This will be our production model."
   ]
  },
  {
   "cell_type": "markdown",
   "metadata": {},
   "source": [
    "## Multilabel Classification\n",
    "\n",
    "Multilabel classification is a problem where multiple target labels can be assigned to each observation instead of only one. This is the exact situation we are facing now with more than one label assigned to some of the talks. \n",
    "\n",
    "For this problem, the models that will be run are Naive Bayes and Support Vector Machine with OneVsRest wrapper that can be used for multilabel learning."
   ]
  },
  {
   "cell_type": "markdown",
   "metadata": {},
   "source": [
    "### Train/Test Split"
   ]
  },
  {
   "cell_type": "code",
   "execution_count": null,
   "metadata": {},
   "outputs": [],
   "source": [
    "labels = ['persuasive_label', 'inspiring_label', 'unconvincing_label']\n",
    "\n",
    "train, test = train_test_split(ted_model, random_state=42, test_size=0.33, shuffle=True)\n",
    "X_train = train.transcript\n",
    "X_test = test.transcript\n",
    "print(X_train.shape)\n",
    "print(X_test.shape)"
   ]
  },
  {
   "cell_type": "markdown",
   "metadata": {},
   "source": [
    "### Linear SVC"
   ]
  },
  {
   "cell_type": "code",
   "execution_count": null,
   "metadata": {},
   "outputs": [],
   "source": [
    "svc_pipeline = Pipeline([\n",
    "                ('tfidf', TfidfVectorizer(stop_words='english')),\n",
    "                ('clf', OneVsRestClassifier(LinearSVC(), n_jobs=-1)),\n",
    "            ])\n",
    "\n",
    "for label in labels:\n",
    "    print('Processing {}'.format(label))\n",
    "    # train the model using X_train and y_train\n",
    "    svc_pipeline.fit(X_train, train[label])\n",
    "    # compute the testing accuracy\n",
    "    prediction = svc_pipeline.predict(X_test)\n",
    "    print('Test accuracy is {}'.format(accuracy_score(test[label], prediction)))"
   ]
  },
  {
   "cell_type": "markdown",
   "metadata": {},
   "source": []
  },
  {
   "cell_type": "markdown",
   "metadata": {},
   "source": [
    "### Naive Bayes"
   ]
  },
  {
   "cell_type": "code",
   "execution_count": null,
   "metadata": {},
   "outputs": [],
   "source": [
    "nb_pipeline = Pipeline([\n",
    "                ('tfidf', TfidfVectorizer(stop_words='english')),\n",
    "                ('clf', OneVsRestClassifier(MultinomialNB(fit_prior=True, class_prior=None)),\n",
    "            ])\n",
    "\n",
    "for label in labels:\n",
    "    print('Processing {}'.format(label))\n",
    "    # train the model using X_train and y_train\n",
    "    nb_pipeline.fit(X_train, train[label])\n",
    "    # compute the testing accuracy\n",
    "    prediction = nb_pipeline.predict(X_test)\n",
    "    print('Test accuracy is {}'.format(accuracy_score(test[label], prediction)))"
   ]
  },
  {
   "cell_type": "code",
   "execution_count": null,
   "metadata": {},
   "outputs": [],
   "source": []
  },
  {
   "cell_type": "code",
   "execution_count": null,
   "metadata": {},
   "outputs": [],
   "source": []
  },
  {
   "cell_type": "markdown",
   "metadata": {},
   "source": [
    "### Logistic Regression"
   ]
  },
  {
   "cell_type": "code",
   "execution_count": null,
   "metadata": {},
   "outputs": [],
   "source": [
    "logreg_pipeline = Pipeline([\n",
    "                ('tfidf', TfidfVectorizer(stop_words=stop_words)),\n",
    "                ('clf', OneVsRestClassifier(LogisticRegression(solver='sag'), n_jobs=-1)),\n",
    "            ])\n",
    "for category in categories:\n",
    "    print('... Processing {}'.format(category))\n",
    "    # train the model using X_dtm & y\n",
    "    logreg_pipeline.fit(X_train, train[category])\n",
    "    # compute the testing accuracy\n",
    "    prediction = logreg_pipeline.predict(X_test)\n",
    "    print('Test accuracy is {}'.format(accuracy_score(test[category], prediction)))"
   ]
  },
  {
   "cell_type": "code",
   "execution_count": null,
   "metadata": {},
   "outputs": [],
   "source": []
  },
  {
   "cell_type": "code",
   "execution_count": null,
   "metadata": {},
   "outputs": [],
   "source": []
  },
  {
   "cell_type": "markdown",
   "metadata": {},
   "source": [
    "## Model Evaluation"
   ]
  },
  {
   "cell_type": "markdown",
   "metadata": {},
   "source": [
    "### Parsing Data\n",
    "The html has been downloaded from the website https://highspark.co/famous-persuasive-speeches/ containing an all-time 40 famous persuasive speeches. The speeches will be tested using the models developed above. Beautiful Soup will be used to parse the html."
   ]
  },
  {
   "cell_type": "code",
   "execution_count": null,
   "metadata": {},
   "outputs": [],
   "source": [
    "# Read in Raw.html and parse into bs4 format\n",
    "raw = codecs.open(\"../data/Raw.html\", \"r\", \"utf-8\").read()\n",
    "print(raw)\n",
    "soup = bs.BeautifulSoup(raw,'lxml')"
   ]
  },
  {
   "cell_type": "code",
   "execution_count": null,
   "metadata": {},
   "outputs": [],
   "source": [
    "# To get main div where all the quotes are\n",
    "body = soup.select(\".et_pb_module.et_pb_post_content.et_pb_post_content_0_tb_body\")\n",
    "# To find all the titles of the quotes\n",
    "h2 = body[0].find_all(\"h2\")\n",
    "# To find all the quotes\n",
    "blockquotes = body[0].find_all(\"blockquote\")"
   ]
  },
  {
   "cell_type": "code",
   "execution_count": null,
   "metadata": {},
   "outputs": [],
   "source": [
    "# Function to remove non-text characters from the quote\n",
    "def get_text_from_blockquote(blockquote):\n",
    "    Quote = \"\"\n",
    "    for p in blockquote.find_all(\"p\"):\n",
    "        Quote += p.get_text().strip().replace(\"\\r\\n\",\" \")\n",
    "    return re.sub(\"\\s{2,}\", \" \", Quote)"
   ]
  },
  {
   "cell_type": "code",
   "execution_count": null,
   "metadata": {},
   "outputs": [],
   "source": [
    "speeches = pd.DataFrame()\n",
    "# Putting the title and articles into a dataframe\n",
    "speeches['title'] = h2\n",
    "speeches['speech'] = blockquotes\n",
    "\n",
    "# Clean up titles and articles\n",
    "speeches['title'] = speeches['title'].apply(lambda x: re.sub(\"\\d+.\",\"\",x.get_text())) # Use regex to remove index that comes with the title\n",
    "speeches['speech'] = speeches['speech'].apply(get_text_from_blockquote)"
   ]
  },
  {
   "cell_type": "code",
   "execution_count": null,
   "metadata": {
    "scrolled": true
   },
   "outputs": [],
   "source": [
    "speeches.head()"
   ]
  },
  {
   "cell_type": "markdown",
   "metadata": {},
   "source": [
    "### Preprocessing"
   ]
  },
  {
   "cell_type": "code",
   "execution_count": null,
   "metadata": {},
   "outputs": [],
   "source": [
    "def lemmastop(word):\n",
    "    # Instantiate Lemmatizer\n",
    "    lemmatizer = WordNetLemmatizer()\n",
    "    \n",
    "    #remove if words from stoplist or words with http or '/' in it\n",
    "    if word in stopwords.words('english') or 'http' in word or '/' in word:\n",
    "        word = ''\n",
    "        \n",
    "    # Lemmatize word then remove any non word characters not catched in previous steps\n",
    "    p_word = re.sub('\\W+', '',lemmatizer.lemmatize(word))\n",
    "    \n",
    "    # returns processed words\n",
    "    return p_word\n",
    "\n",
    "def clean_data(raw_string):\n",
    "    # The input is raw unprocessed text), and \n",
    "    # the output is preprocessed text)\n",
    "    # Instantiate Tokenizer. \n",
    "    tokenizer = RegexpTokenizer(r'\\w+\\'?\\w+(?=\\W)') # Regex matches words and words with apostrophe in between\n",
    "    \n",
    "    # Tokenize raw string\n",
    "    tokens = tokenizer.tokenize(raw_string.lower())  \n",
    "    \n",
    "    # call function to remove stop list words and lemmatize words\n",
    "    processed_tokens = map(lemmastop, tokens)\n",
    "    \n",
    "    # Joins only tokens with words and returns processed string\n",
    "    return ' '.join(token for token in processed_tokens if token != '')\n",
    "\n",
    "speeches['speech'] = speeches['speech'].apply(clean_data)"
   ]
  },
  {
   "cell_type": "markdown",
   "metadata": {},
   "source": [
    "Since the speeches are supposed to be the 40 most persuasive and inspiring speeches of all time, we will add columns for the labels."
   ]
  },
  {
   "cell_type": "code",
   "execution_count": null,
   "metadata": {},
   "outputs": [],
   "source": [
    "speeches['persuasive_label'] = 1\n",
    "speeches['inspiring_label'] = 1"
   ]
  },
  {
   "cell_type": "code",
   "execution_count": null,
   "metadata": {},
   "outputs": [],
   "source": [
    "speeches.head()"
   ]
  },
  {
   "cell_type": "markdown",
   "metadata": {},
   "source": [
    "### Persuasive Classifier Evaluation"
   ]
  },
  {
   "cell_type": "code",
   "execution_count": null,
   "metadata": {},
   "outputs": [],
   "source": [
    "X_train = ted_model.transcript\n",
    "y_train = ted_model.persuasive_label\n",
    "\n",
    "X_test = speeches.speech\n",
    "y_test = speeches.persuasive_label"
   ]
  },
  {
   "cell_type": "code",
   "execution_count": null,
   "metadata": {
    "scrolled": true
   },
   "outputs": [],
   "source": [
    "# Check the best parameters to instantiate model\n",
    "persuasive_tuning"
   ]
  },
  {
   "cell_type": "code",
   "execution_count": null,
   "metadata": {},
   "outputs": [],
   "source": [
    "# Instantiate model with best parameters.\n",
    "tf_final = TfidfVectorizer(min_df=2, max_features=2500, max_df=0.7, \n",
    "                           stop_words='english', ngram_range=(1,2))\n",
    "X_train_final = tf_final.fit_transform(X_train)\n",
    "X_test_final = tf_final.transform(X_test)\n",
    "\n",
    "# Fit model.\n",
    "svm_final = SGDClassifier(penalty='l2', max_iter=5, loss='log', alpha=0.001, random_state=42)\n",
    "svm_final.fit(X_train_final, y_train)\n",
    "print('Test set accuracy score: ', svm_final.score(X_test_final, y_test))"
   ]
  },
  {
   "cell_type": "code",
   "execution_count": null,
   "metadata": {},
   "outputs": [],
   "source": [
    "# Get predictions\n",
    "preds = svm_final.predict(X_test_final)"
   ]
  },
  {
   "cell_type": "code",
   "execution_count": null,
   "metadata": {},
   "outputs": [],
   "source": [
    "model_eval = pd.DataFrame(speeches['title'])\n",
    "model_eval['speech'] = X_test\n",
    "model_eval['label'] = y_test\n",
    "model_eval['predictions'] = preds"
   ]
  },
  {
   "cell_type": "code",
   "execution_count": null,
   "metadata": {},
   "outputs": [],
   "source": [
    "# Check dataframe\n",
    "model_eval.head()"
   ]
  },
  {
   "cell_type": "code",
   "execution_count": null,
   "metadata": {},
   "outputs": [],
   "source": [
    "# Pick out the incorrecly predicted ones\n",
    "persuasive_inaccurate = model_eval[model_eval['predictions'] == 0]\n",
    "persuasive_inaccurate.head()"
   ]
  },
  {
   "cell_type": "code",
   "execution_count": null,
   "metadata": {},
   "outputs": [],
   "source": [
    "# Function to TFIDF vectorize and place the count of words into a dataframe\n",
    "def count_words(data, num):\n",
    "    \n",
    "    # Instantiate TFIDF Vectorizer with stopwords to remove them\n",
    "    tf = TfidfVectorizer(stop_words = 'english')\n",
    "    # Fit and transform the data with Count Vectorizer\n",
    "    data_tf = tf.fit_transform(data).todense()\n",
    "    # Change it into dataframe\n",
    "    data_tf_df = pd.DataFrame(data_tf, columns = tf.get_feature_names())\n",
    "    \n",
    "    # Get a column containing the count of words called total and \n",
    "    # create a new dataframe with only the total and word columns\n",
    "    data_total = pd.DataFrame(data_tf_df.sum(axis=0), columns=['total']).reset_index()\n",
    "    data_total.rename({'index': 'word'}, axis=1, inplace=True)\n",
    "    \n",
    "    # Get the top words in the speeches\n",
    "    top_data = data_total.sort_values(by='total', ascending=False).head(num)\n",
    "    return top_data"
   ]
  },
  {
   "cell_type": "code",
   "execution_count": null,
   "metadata": {},
   "outputs": [],
   "source": [
    "top_persuasive_inaccuracies = count_words(persuasive_inaccurate['speech'],20)\n",
    "plt.figure(figsize=(12,8))\n",
    "sns.barplot(x='total', y='word', data=top_persuasive_inaccuracies, palette='BuPu_r');"
   ]
  },
  {
   "cell_type": "code",
   "execution_count": null,
   "metadata": {},
   "outputs": [],
   "source": [
    "# Pick out the correctly predicted ones\n",
    "persuasive_accurate = model_eval[model_eval['predictions'] == 1]\n",
    "persuasive_accurate.head()"
   ]
  },
  {
   "cell_type": "code",
   "execution_count": null,
   "metadata": {},
   "outputs": [],
   "source": [
    "top_persuasive_accuracies = count_words(persuasive_accurate['speech'], 20)\n",
    "plt.figure(figsize=(12,8))\n",
    "sns.barplot(x='total', y='word', data=top_accuracies, palette='BuPu_r');"
   ]
  },
  {
   "cell_type": "markdown",
   "metadata": {},
   "source": [
    "### Inspiring Classifier Evaluation"
   ]
  },
  {
   "cell_type": "code",
   "execution_count": 126,
   "metadata": {},
   "outputs": [],
   "source": [
    "X_train = ted_model.transcript\n",
    "y_train = ted_model.inspiring_label\n",
    "\n",
    "X_test = speeches.speech\n",
    "y_test = speeches.inspiring_label"
   ]
  },
  {
   "cell_type": "code",
   "execution_count": 127,
   "metadata": {
    "scrolled": true
   },
   "outputs": [
    {
     "data": {
      "text/html": [
       "<div>\n",
       "<style scoped>\n",
       "    .dataframe tbody tr th:only-of-type {\n",
       "        vertical-align: middle;\n",
       "    }\n",
       "\n",
       "    .dataframe tbody tr th {\n",
       "        vertical-align: top;\n",
       "    }\n",
       "\n",
       "    .dataframe thead th {\n",
       "        text-align: right;\n",
       "    }\n",
       "</style>\n",
       "<table border=\"1\" class=\"dataframe\">\n",
       "  <thead>\n",
       "    <tr style=\"text-align: right;\">\n",
       "      <th></th>\n",
       "      <th>model</th>\n",
       "      <th>best_params</th>\n",
       "      <th>train_accuracy</th>\n",
       "      <th>test_accuracy</th>\n",
       "      <th>recall</th>\n",
       "      <th>precision</th>\n",
       "      <th>f1-score</th>\n",
       "    </tr>\n",
       "  </thead>\n",
       "  <tbody>\n",
       "    <tr>\n",
       "      <th>0</th>\n",
       "      <td>logreg</td>\n",
       "      <td>{'tf__min_df': 2, 'tf__max_features': 2500, 'tf__max_df': 0.8, 'logreg__penalty': 'l2', 'logreg__class_weight': None}</td>\n",
       "      <td>1.000000</td>\n",
       "      <td>0.623482</td>\n",
       "      <td>0.622642</td>\n",
       "      <td>0.624324</td>\n",
       "      <td>0.623482</td>\n",
       "    </tr>\n",
       "    <tr>\n",
       "      <th>1</th>\n",
       "      <td>svm</td>\n",
       "      <td>{'tf__min_df': 2, 'tf__max_features': 2500, 'tf__max_df': 0.7, 'svm__penalty': 'l2', 'svm__max_iter': 5, 'svm__loss': 'log', 'svm__alpha': 0.001}</td>\n",
       "      <td>0.818656</td>\n",
       "      <td>0.678812</td>\n",
       "      <td>0.638814</td>\n",
       "      <td>0.695015</td>\n",
       "      <td>0.665730</td>\n",
       "    </tr>\n",
       "  </tbody>\n",
       "</table>\n",
       "</div>"
      ],
      "text/plain": [
       "    model  \\\n",
       "0  logreg   \n",
       "1     svm   \n",
       "\n",
       "                                                                                                                                         best_params  \\\n",
       "0                              {'tf__min_df': 2, 'tf__max_features': 2500, 'tf__max_df': 0.8, 'logreg__penalty': 'l2', 'logreg__class_weight': None}   \n",
       "1  {'tf__min_df': 2, 'tf__max_features': 2500, 'tf__max_df': 0.7, 'svm__penalty': 'l2', 'svm__max_iter': 5, 'svm__loss': 'log', 'svm__alpha': 0.001}   \n",
       "\n",
       "   train_accuracy  test_accuracy    recall  precision  f1-score  \n",
       "0        1.000000       0.623482  0.622642   0.624324  0.623482  \n",
       "1        0.818656       0.678812  0.638814   0.695015  0.665730  "
      ]
     },
     "execution_count": 127,
     "metadata": {},
     "output_type": "execute_result"
    }
   ],
   "source": [
    "# Check the best parameters to instantiate model\n",
    "inspiring_tuning"
   ]
  },
  {
   "cell_type": "code",
   "execution_count": 128,
   "metadata": {},
   "outputs": [
    {
     "name": "stdout",
     "output_type": "stream",
     "text": [
      "Accuracy score:  0.425\n"
     ]
    }
   ],
   "source": [
    "# Instantiate model with best parameters.\n",
    "tf_final = TfidfVectorizer(min_df=2, max_features=2500, max_df=0.7, \n",
    "                           stop_words='english', ngram_range=(1,2))\n",
    "X_train_final = tf_final.fit_transform(X_train)\n",
    "X_test_final = tf_final.transform(X_test)\n",
    "\n",
    "# Fit model.\n",
    "svm_final = SGDClassifier(penalty='l2', max_iter=5, loss='log', alpha=0.001, random_state=42)\n",
    "svm_final.fit(X_train_final, y_train)\n",
    "print('Accuracy score: ', svm_final.score(X_test_final, y_test))"
   ]
  },
  {
   "cell_type": "code",
   "execution_count": 129,
   "metadata": {},
   "outputs": [],
   "source": [
    "# Get predictions\n",
    "preds = svm_final.predict(X_test_final)"
   ]
  },
  {
   "cell_type": "code",
   "execution_count": 130,
   "metadata": {},
   "outputs": [],
   "source": [
    "model_eval = pd.DataFrame(speeches['title'])\n",
    "model_eval['speech'] = X_test\n",
    "model_eval['label'] = y_test\n",
    "model_eval['predictions'] = preds"
   ]
  },
  {
   "cell_type": "code",
   "execution_count": 131,
   "metadata": {},
   "outputs": [
    {
     "data": {
      "text/html": [
       "<div>\n",
       "<style scoped>\n",
       "    .dataframe tbody tr th:only-of-type {\n",
       "        vertical-align: middle;\n",
       "    }\n",
       "\n",
       "    .dataframe tbody tr th {\n",
       "        vertical-align: top;\n",
       "    }\n",
       "\n",
       "    .dataframe thead th {\n",
       "        text-align: right;\n",
       "    }\n",
       "</style>\n",
       "<table border=\"1\" class=\"dataframe\">\n",
       "  <thead>\n",
       "    <tr style=\"text-align: right;\">\n",
       "      <th></th>\n",
       "      <th>title</th>\n",
       "      <th>speech</th>\n",
       "      <th>label</th>\n",
       "      <th>predictions</th>\n",
       "    </tr>\n",
       "  </thead>\n",
       "  <tbody>\n",
       "    <tr>\n",
       "      <th>0</th>\n",
       "      <td>I have a dream by MLK</td>\n",
       "      <td>dream one day alabama vicious racist governor lip dripping word interposition nullification one day right alabama little black boy black girl able join hand little white boy white girl sister brot...</td>\n",
       "      <td>1</td>\n",
       "      <td>1</td>\n",
       "    </tr>\n",
       "    <tr>\n",
       "      <th>1</th>\n",
       "      <td>Tilbury Speech by Queen Elizabeth I</td>\n",
       "      <td>loving people persuaded careful safety take heed commit self armed multitude fear treachery assure desire live distrust faithful loving people let tyrant fear always behaved god placed chiefest st...</td>\n",
       "      <td>1</td>\n",
       "      <td>0</td>\n",
       "    </tr>\n",
       "    <tr>\n",
       "      <th>2</th>\n",
       "      <td>Woodrow Wilson, address to Congress (April</td>\n",
       "      <td>world must made safe democracy peace must planted upon tested foundation political liberty selfish end serve desire conquest dominion seek indemnity material compensation sacrifice shall freely ma...</td>\n",
       "      <td>1</td>\n",
       "      <td>1</td>\n",
       "    </tr>\n",
       "    <tr>\n",
       "      <th>3</th>\n",
       "      <td>Ain’t I A Woman by Sojourner Truth</td>\n",
       "      <td>man say woman need helped carriage lifted ditch best place everywhere nobody ever help carriage mud puddle give best place woman look look arm ploughed planted gathered barn man could head woman c...</td>\n",
       "      <td>1</td>\n",
       "      <td>1</td>\n",
       "    </tr>\n",
       "    <tr>\n",
       "      <th>4</th>\n",
       "      <td>The Gettsyburg Address by Abraham Lincoln</td>\n",
       "      <td>fondly hope fervently pray mighty scourge war may speedily pas away yet god will continue wealth piled bondsman two hundred fifty year unrequited toil shall sunk every drop blood drawn lash shall ...</td>\n",
       "      <td>1</td>\n",
       "      <td>0</td>\n",
       "    </tr>\n",
       "  </tbody>\n",
       "</table>\n",
       "</div>"
      ],
      "text/plain": [
       "                                           title  \\\n",
       "0                          I have a dream by MLK   \n",
       "1            Tilbury Speech by Queen Elizabeth I   \n",
       "2   Woodrow Wilson, address to Congress (April     \n",
       "3             Ain’t I A Woman by Sojourner Truth   \n",
       "4      The Gettsyburg Address by Abraham Lincoln   \n",
       "\n",
       "                                                                                                                                                                                                    speech  \\\n",
       "0  dream one day alabama vicious racist governor lip dripping word interposition nullification one day right alabama little black boy black girl able join hand little white boy white girl sister brot...   \n",
       "1  loving people persuaded careful safety take heed commit self armed multitude fear treachery assure desire live distrust faithful loving people let tyrant fear always behaved god placed chiefest st...   \n",
       "2  world must made safe democracy peace must planted upon tested foundation political liberty selfish end serve desire conquest dominion seek indemnity material compensation sacrifice shall freely ma...   \n",
       "3  man say woman need helped carriage lifted ditch best place everywhere nobody ever help carriage mud puddle give best place woman look look arm ploughed planted gathered barn man could head woman c...   \n",
       "4  fondly hope fervently pray mighty scourge war may speedily pas away yet god will continue wealth piled bondsman two hundred fifty year unrequited toil shall sunk every drop blood drawn lash shall ...   \n",
       "\n",
       "   label  predictions  \n",
       "0      1            1  \n",
       "1      1            0  \n",
       "2      1            1  \n",
       "3      1            1  \n",
       "4      1            0  "
      ]
     },
     "execution_count": 131,
     "metadata": {},
     "output_type": "execute_result"
    }
   ],
   "source": [
    "# Check dataframe\n",
    "model_eval.head()"
   ]
  },
  {
   "cell_type": "code",
   "execution_count": 133,
   "metadata": {},
   "outputs": [
    {
     "data": {
      "text/html": [
       "<div>\n",
       "<style scoped>\n",
       "    .dataframe tbody tr th:only-of-type {\n",
       "        vertical-align: middle;\n",
       "    }\n",
       "\n",
       "    .dataframe tbody tr th {\n",
       "        vertical-align: top;\n",
       "    }\n",
       "\n",
       "    .dataframe thead th {\n",
       "        text-align: right;\n",
       "    }\n",
       "</style>\n",
       "<table border=\"1\" class=\"dataframe\">\n",
       "  <thead>\n",
       "    <tr style=\"text-align: right;\">\n",
       "      <th></th>\n",
       "      <th>title</th>\n",
       "      <th>speech</th>\n",
       "      <th>label</th>\n",
       "      <th>predictions</th>\n",
       "    </tr>\n",
       "  </thead>\n",
       "  <tbody>\n",
       "    <tr>\n",
       "      <th>1</th>\n",
       "      <td>Tilbury Speech by Queen Elizabeth I</td>\n",
       "      <td>loving people persuaded careful safety take heed commit self armed multitude fear treachery assure desire live distrust faithful loving people let tyrant fear always behaved god placed chiefest st...</td>\n",
       "      <td>1</td>\n",
       "      <td>0</td>\n",
       "    </tr>\n",
       "    <tr>\n",
       "      <th>4</th>\n",
       "      <td>The Gettsyburg Address by Abraham Lincoln</td>\n",
       "      <td>fondly hope fervently pray mighty scourge war may speedily pas away yet god will continue wealth piled bondsman two hundred fifty year unrequited toil shall sunk every drop blood drawn lash shall ...</td>\n",
       "      <td>1</td>\n",
       "      <td>0</td>\n",
       "    </tr>\n",
       "    <tr>\n",
       "      <th>6</th>\n",
       "      <td>Vladimir Lenin’s Speech at an International Meeting in Berne, February</td>\n",
       "      <td>may sound incredible especially swiss comrade nevertheless true russia also bloody tsarism capitalist also section called ex socialist say russia fighting war defence russia fighting german invasi...</td>\n",
       "      <td>1</td>\n",
       "      <td>0</td>\n",
       "    </tr>\n",
       "    <tr>\n",
       "      <th>8</th>\n",
       "      <td>First Inaugural Speech by Franklin D Roosevelt</td>\n",
       "      <td>first let assert firm belief thing fear fear nameless unreasoning unjustified terror paralyzes needed effort convert retreat advance every dark hour national life leadership frankness vigor met un...</td>\n",
       "      <td>1</td>\n",
       "      <td>0</td>\n",
       "    </tr>\n",
       "    <tr>\n",
       "      <th>9</th>\n",
       "      <td>The Hypocrisy of American Slavery by Frederick Douglass</td>\n",
       "      <td>american slave fourth july answer day reveals day year gross injustice cruelty constant victim celebration sham boasted liberty unholy license national greatness swelling vanity sound rejoicing em...</td>\n",
       "      <td>1</td>\n",
       "      <td>0</td>\n",
       "    </tr>\n",
       "  </tbody>\n",
       "</table>\n",
       "</div>"
      ],
      "text/plain": [
       "                                                                       title  \\\n",
       "1                                        Tilbury Speech by Queen Elizabeth I   \n",
       "4                                  The Gettsyburg Address by Abraham Lincoln   \n",
       "6   Vladimir Lenin’s Speech at an International Meeting in Berne, February     \n",
       "8                             First Inaugural Speech by Franklin D Roosevelt   \n",
       "9                    The Hypocrisy of American Slavery by Frederick Douglass   \n",
       "\n",
       "                                                                                                                                                                                                    speech  \\\n",
       "1  loving people persuaded careful safety take heed commit self armed multitude fear treachery assure desire live distrust faithful loving people let tyrant fear always behaved god placed chiefest st...   \n",
       "4  fondly hope fervently pray mighty scourge war may speedily pas away yet god will continue wealth piled bondsman two hundred fifty year unrequited toil shall sunk every drop blood drawn lash shall ...   \n",
       "6  may sound incredible especially swiss comrade nevertheless true russia also bloody tsarism capitalist also section called ex socialist say russia fighting war defence russia fighting german invasi...   \n",
       "8  first let assert firm belief thing fear fear nameless unreasoning unjustified terror paralyzes needed effort convert retreat advance every dark hour national life leadership frankness vigor met un...   \n",
       "9  american slave fourth july answer day reveals day year gross injustice cruelty constant victim celebration sham boasted liberty unholy license national greatness swelling vanity sound rejoicing em...   \n",
       "\n",
       "   label  predictions  \n",
       "1      1            0  \n",
       "4      1            0  \n",
       "6      1            0  \n",
       "8      1            0  \n",
       "9      1            0  "
      ]
     },
     "execution_count": 133,
     "metadata": {},
     "output_type": "execute_result"
    }
   ],
   "source": [
    "# Pick out the incorrectly predicted ones\n",
    "inspiring_inaccurate = model_eval[model_eval['predictions'] == 0]\n",
    "inspiring_inaccurate.head()"
   ]
  },
  {
   "cell_type": "code",
   "execution_count": 156,
   "metadata": {},
   "outputs": [
    {
     "data": {
      "image/png": "[encoded data removed]",
      "text/plain": [
       "<Figure size 864x576 with 1 Axes>"
      ]
     },
     "metadata": {
      "needs_background": "light"
     },
     "output_type": "display_data"
    }
   ],
   "source": [
    "top_inspiring_inaccuracies = count_words(inspiring_inaccurate['speech'],20)\n",
    "plt.figure(figsize=(12,8))\n",
    "sns.barplot(x='total', y='word', data=top_inspiring_inaccuracies, palette='plasma');"
   ]
  },
  {
   "cell_type": "code",
   "execution_count": 160,
   "metadata": {},
   "outputs": [
    {
     "data": {
      "text/html": [
       "<div>\n",
       "<style scoped>\n",
       "    .dataframe tbody tr th:only-of-type {\n",
       "        vertical-align: middle;\n",
       "    }\n",
       "\n",
       "    .dataframe tbody tr th {\n",
       "        vertical-align: top;\n",
       "    }\n",
       "\n",
       "    .dataframe thead th {\n",
       "        text-align: right;\n",
       "    }\n",
       "</style>\n",
       "<table border=\"1\" class=\"dataframe\">\n",
       "  <thead>\n",
       "    <tr style=\"text-align: right;\">\n",
       "      <th></th>\n",
       "      <th>title</th>\n",
       "      <th>speech</th>\n",
       "      <th>label</th>\n",
       "      <th>predictions</th>\n",
       "    </tr>\n",
       "  </thead>\n",
       "  <tbody>\n",
       "    <tr>\n",
       "      <th>0</th>\n",
       "      <td>I have a dream by MLK</td>\n",
       "      <td>dream one day alabama vicious racist governor lip dripping word interposition nullification one day right alabama little black boy black girl able join hand little white boy white girl sister brot...</td>\n",
       "      <td>1</td>\n",
       "      <td>1</td>\n",
       "    </tr>\n",
       "    <tr>\n",
       "      <th>2</th>\n",
       "      <td>Woodrow Wilson, address to Congress (April</td>\n",
       "      <td>world must made safe democracy peace must planted upon tested foundation political liberty selfish end serve desire conquest dominion seek indemnity material compensation sacrifice shall freely ma...</td>\n",
       "      <td>1</td>\n",
       "      <td>1</td>\n",
       "    </tr>\n",
       "    <tr>\n",
       "      <th>3</th>\n",
       "      <td>Ain’t I A Woman by Sojourner Truth</td>\n",
       "      <td>man say woman need helped carriage lifted ditch best place everywhere nobody ever help carriage mud puddle give best place woman look look arm ploughed planted gathered barn man could head woman c...</td>\n",
       "      <td>1</td>\n",
       "      <td>1</td>\n",
       "    </tr>\n",
       "    <tr>\n",
       "      <th>5</th>\n",
       "      <td>Woman’s Rights to the Suffrage by Susan B Anthony</td>\n",
       "      <td>state make sex qualification must ever result disfranchisement one entire half people pas bill attainder ex post facto law therefore violation supreme law land blessing liberty ever withheld woman...</td>\n",
       "      <td>1</td>\n",
       "      <td>1</td>\n",
       "    </tr>\n",
       "    <tr>\n",
       "      <th>7</th>\n",
       "      <td>I Have A Dream Speech by Mary Wollstonecraft</td>\n",
       "      <td>say would impress declamation reason offer sober light really capable acting like rational creature let treated like slave like brute dependent reason man associate cultivate mind give salutary su...</td>\n",
       "      <td>1</td>\n",
       "      <td>1</td>\n",
       "    </tr>\n",
       "  </tbody>\n",
       "</table>\n",
       "</div>"
      ],
      "text/plain": [
       "                                                title  \\\n",
       "0                               I have a dream by MLK   \n",
       "2        Woodrow Wilson, address to Congress (April     \n",
       "3                  Ain’t I A Woman by Sojourner Truth   \n",
       "5   Woman’s Rights to the Suffrage by Susan B Anthony   \n",
       "7        I Have A Dream Speech by Mary Wollstonecraft   \n",
       "\n",
       "                                                                                                                                                                                                    speech  \\\n",
       "0  dream one day alabama vicious racist governor lip dripping word interposition nullification one day right alabama little black boy black girl able join hand little white boy white girl sister brot...   \n",
       "2  world must made safe democracy peace must planted upon tested foundation political liberty selfish end serve desire conquest dominion seek indemnity material compensation sacrifice shall freely ma...   \n",
       "3  man say woman need helped carriage lifted ditch best place everywhere nobody ever help carriage mud puddle give best place woman look look arm ploughed planted gathered barn man could head woman c...   \n",
       "5  state make sex qualification must ever result disfranchisement one entire half people pas bill attainder ex post facto law therefore violation supreme law land blessing liberty ever withheld woman...   \n",
       "7  say would impress declamation reason offer sober light really capable acting like rational creature let treated like slave like brute dependent reason man associate cultivate mind give salutary su...   \n",
       "\n",
       "   label  predictions  \n",
       "0      1            1  \n",
       "2      1            1  \n",
       "3      1            1  \n",
       "5      1            1  \n",
       "7      1            1  "
      ]
     },
     "execution_count": 160,
     "metadata": {},
     "output_type": "execute_result"
    }
   ],
   "source": [
    "# Pick out the correctly predicted ones\n",
    "inspiring_accurate = model_eval[model_eval['predictions'] == 1]\n",
    "inspiring_accurate.head()"
   ]
  },
  {
   "cell_type": "code",
   "execution_count": 161,
   "metadata": {},
   "outputs": [
    {
     "data": {
      "image/png": "[encoded data removed]",
      "text/plain": [
       "<Figure size 864x576 with 1 Axes>"
      ]
     },
     "metadata": {
      "needs_background": "light"
     },
     "output_type": "display_data"
    }
   ],
   "source": [
    "top_inspiring_accuracies = count_words(inspiring_accurate['speech'], 20)\n",
    "plt.figure(figsize=(12,8))\n",
    "sns.barplot(x='total', y='word', data=top_inspiring_accuracies, palette='plasma');"
   ]
  },
  {
   "cell_type": "markdown",
   "metadata": {},
   "source": [
    "https://medium.com/@aneesha/visualising-top-features-in-linear-svm-with-scikit-learn-and-matplotlib-3454ab18a14dextract SVM feature importance sklearn sgd"
   ]
  },
  {
   "cell_type": "markdown",
   "metadata": {},
   "source": [
    "### Unconvincing Classifier Evaluation"
   ]
  },
  {
   "cell_type": "markdown",
   "metadata": {},
   "source": [
    "For this classifier, we will evaluate it using our original dataset with train/ test split and see the accuracy of the prediction on the test set."
   ]
  },
  {
   "cell_type": "code",
   "execution_count": 1,
   "metadata": {},
   "outputs": [
    {
     "ename": "NameError",
     "evalue": "name 'ted_model' is not defined",
     "output_type": "error",
     "traceback": [
      "\u001b[0;31m---------------------------------------------------------------------------\u001b[0m",
      "\u001b[0;31mNameError\u001b[0m                                 Traceback (most recent call last)",
      "\u001b[0;32m<ipython-input-1-49b9b2c8653e>\u001b[0m in \u001b[0;36m<module>\u001b[0;34m\u001b[0m\n\u001b[0;32m----> 1\u001b[0;31m \u001b[0mX\u001b[0m \u001b[0;34m=\u001b[0m \u001b[0mted_model\u001b[0m\u001b[0;34m.\u001b[0m\u001b[0mtranscript\u001b[0m\u001b[0;34m\u001b[0m\u001b[0;34m\u001b[0m\u001b[0m\n\u001b[0m\u001b[1;32m      2\u001b[0m \u001b[0my\u001b[0m \u001b[0;34m=\u001b[0m \u001b[0mted_model\u001b[0m\u001b[0;34m.\u001b[0m\u001b[0munconvincing_label\u001b[0m\u001b[0;34m\u001b[0m\u001b[0;34m\u001b[0m\u001b[0m\n\u001b[1;32m      3\u001b[0m \u001b[0mX_train\u001b[0m\u001b[0;34m,\u001b[0m \u001b[0mX_test\u001b[0m\u001b[0;34m,\u001b[0m \u001b[0my_train\u001b[0m\u001b[0;34m,\u001b[0m \u001b[0my_test\u001b[0m \u001b[0;34m=\u001b[0m \u001b[0mtrain_test_split\u001b[0m\u001b[0;34m(\u001b[0m\u001b[0mX\u001b[0m\u001b[0;34m,\u001b[0m \u001b[0my\u001b[0m\u001b[0;34m,\u001b[0m \u001b[0mtest_size\u001b[0m\u001b[0;34m=\u001b[0m\u001b[0;36m0.3\u001b[0m\u001b[0;34m,\u001b[0m \u001b[0mrandom_state\u001b[0m \u001b[0;34m=\u001b[0m \u001b[0;36m42\u001b[0m\u001b[0;34m,\u001b[0m \u001b[0mstratify\u001b[0m\u001b[0;34m=\u001b[0m\u001b[0my\u001b[0m\u001b[0;34m)\u001b[0m\u001b[0;34m\u001b[0m\u001b[0;34m\u001b[0m\u001b[0m\n",
      "\u001b[0;31mNameError\u001b[0m: name 'ted_model' is not defined"
     ]
    }
   ],
   "source": [
    "X = ted_model.transcript\n",
    "y = ted_model.unconvincing_label\n",
    "X_train, X_test, y_train, y_test = train_test_split(X, y, test_size=0.3, random_state = 42, stratify=y)"
   ]
  },
  {
   "cell_type": "code",
   "execution_count": null,
   "metadata": {},
   "outputs": [],
   "source": [
    "test data - get predict proba "
   ]
  },
  {
   "cell_type": "code",
   "execution_count": null,
   "metadata": {},
   "outputs": [],
   "source": [
    "unconvincing"
   ]
  },
  {
   "cell_type": "code",
   "execution_count": null,
   "metadata": {},
   "outputs": [],
   "source": []
  },
  {
   "cell_type": "code",
   "execution_count": null,
   "metadata": {},
   "outputs": [],
   "source": []
  },
  {
   "cell_type": "code",
   "execution_count": null,
   "metadata": {},
   "outputs": [],
   "source": [
    "def plot_coefficients(classifier, feature_names, top_features=20):\n",
    "    coef = classifier.coef_.ravel()\n",
    "    top_positive_coefficients = np.argsort(coef)[-top_features:]\n",
    "    top_negative_coefficients = np.argsort(coef)[:top_features]\n",
    "    top_coefficients = np.hstack([top_negative_coefficients, top_positive_coefficients])\n",
    "\n",
    "# create plot\n",
    "plt.figure(figsize=(15, 5))\n",
    "colors = [‘red’ if c < 0 else ‘blue’ for c in coef[top_coefficients]]\n",
    "plt.bar(np.arange(2 * top_features), coef[top_coefficients], color=colors)\n",
    "feature_names = np.array(feature_names)\n",
    "plt.xticks(np.arange(1, 1 + 2 * top_features), feature_names[top_coefficients], rotation=60, ha=’right’)\n",
    "plt.show()\n",
    "\n",
    "tvec = TfidfVectorizer()\n",
    "tvec.fit(data)\n",
    "print len(cv.vocabulary_)\n",
    "print cv.get_feature_names()\n",
    "X_train = cv.transform(data)\n",
    "\n",
    "svm = SGDClassfier()\n",
    "svm.fit(X_train, target)\n",
    "plot_coefficients(svm, cv.get_feature_names())"
   ]
  },
  {
   "cell_type": "markdown",
   "metadata": {},
   "source": [
    "##"
   ]
  }
 ],
 "metadata": {
  "kernelspec": {
   "display_name": "Python 3",
   "language": "python",
   "name": "python3"
  },
  "language_info": {
   "codemirror_mode": {
    "name": "ipython",
    "version": 3
   },
   "file_extension": ".py",
   "mimetype": "text/x-python",
   "name": "python",
   "nbconvert_exporter": "python",
   "pygments_lexer": "ipython3",
   "version": "3.7.3"
  }
 },
 "nbformat": 4,
 "nbformat_minor": 2
}
