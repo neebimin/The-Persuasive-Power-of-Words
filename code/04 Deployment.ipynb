{
 "cells": [
  {
   "cell_type": "markdown",
   "metadata": {},
   "source": [
    "# Notebook 4\n",
    "This notebook contains codes for deployment purposes."
   ]
  },
  {
   "cell_type": "code",
   "execution_count": 2,
   "metadata": {},
   "outputs": [],
   "source": [
    "# Import preprocessing libraries\n",
    "\n",
    "from nltk.corpus import stopwords\n",
    "from nltk.stem import WordNetLemmatizer\n",
    "from sklearn.feature_extraction.text import TfidfVectorizer\n",
    "from nltk.tokenize import RegexpTokenizer"
   ]
  },
  {
   "cell_type": "markdown",
   "metadata": {},
   "source": [
    "## Preparation for Deployment"
   ]
  },
  {
   "cell_type": "code",
   "execution_count": null,
   "metadata": {},
   "outputs": [],
   "source": [
    "def lemmastop(word):\n",
    "    # Instantiate Lemmatizer\n",
    "    lemmatizer = WordNetLemmatizer()\n",
    "    \n",
    "    #remove if words from stoplist or words with http or '/' in it\n",
    "    if word in stopwords.words('english') or '/' in word:\n",
    "        word = ''\n",
    "        \n",
    "    # Lemmatize word then remove any non word characters not catched in previous steps\n",
    "    p_word = re.sub('\\W+', '',lemmatizer.lemmatize(word))\n",
    "    \n",
    "    # returns processed words\n",
    "    return p_word\n",
    "\n",
    "def clean_data(raw_string):\n",
    "    # The input is raw unprocessed text), and \n",
    "    # the output is preprocessed text)\n",
    "    # Instantiate Tokenizer. \n",
    "    tokenizer = RegexpTokenizer(r'\\w+\\'?\\w+(?=\\W)') # Regex matches words and words with apostrophe in between\n",
    "    \n",
    "    # Tokenize raw string\n",
    "    tokens = tokenizer.tokenize(raw_string.lower())  \n",
    "    \n",
    "    # call function to remove stop list words and lemmatize words\n",
    "    processed_tokens = map(lemmastop, tokens)\n",
    "    \n",
    "    # Joins only tokens with words and returns processed string\n",
    "    return ' '.join(token for token in processed_tokens if token != '')"
   ]
  },
  {
   "cell_type": "code",
   "execution_count": null,
   "metadata": {},
   "outputs": [],
   "source": [
    "# Apply the function to the transcript\n",
    "ted_model['transcript'] = ted_model['transcript'].apply(clean_data)"
   ]
  },
  {
   "cell_type": "code",
   "execution_count": null,
   "metadata": {},
   "outputs": [],
   "source": [
    "# Instantiate model for deployment\n",
    "logreg_pipeline = Pipeline([\n",
    "                ('tfidf', TfidfVectorizer(stop_words='english', ngram_range=(1,2))),\n",
    "                ('clf', OneVsRestClassifier(LogisticRegression(solver='sag', C=0.1), n_jobs=-1)),\n",
    "            ])\n",
    "\n",
    "labels=['persuasive_label', 'inspiring_label', 'unconvincing_label']\n",
    "\n",
    "# logreg_pipeline(X_train, ted_model[labels])\n",
    "\n",
    "# logreg_pipeline.predict_proba(X_test)\n",
    "\n",
    "for label in labels:\n",
    "    # train the model using X_train and y_train\n",
    "    logreg_pipeline(X_train, ted_model[label])\n",
    "    # compute probabilities\n",
    "    test_pred = logreg_pipeline.predict_proba(X_test)"
   ]
  }
 ],
 "metadata": {
  "kernelspec": {
   "display_name": "Python 3",
   "language": "python",
   "name": "python3"
  },
  "language_info": {
   "codemirror_mode": {
    "name": "ipython",
    "version": 3
   },
   "file_extension": ".py",
   "mimetype": "text/x-python",
   "name": "python",
   "nbconvert_exporter": "python",
   "pygments_lexer": "ipython3",
   "version": "3.7.3"
  }
 },
 "nbformat": 4,
 "nbformat_minor": 2
}
